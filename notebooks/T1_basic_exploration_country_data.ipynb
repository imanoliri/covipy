{
 "cells": [
  {
   "cell_type": "code",
   "execution_count": null,
   "metadata": {},
   "outputs": [],
   "source": [
    "import sys\n",
    "\n",
    "sys.path.append('./..')\n",
    "sys.path.append('./../code')\n",
    "from IPython.core.interactiveshell import InteractiveShell\n",
    "\n",
    "InteractiveShell.ast_node_interactivity = \"all\""
   ]
  },
  {
   "cell_type": "markdown",
   "metadata": {},
   "source": [
    "# Explore data\n",
    "This notebook explores the data imported in cell #1 in a standard way. It's useful to have a first contact with a dataset before continuing with more specific analysis and visualizations.\n",
    "It's assumed that the data is already fairly clean and there are no duplicate columns or rows."
   ]
  },
  {
   "cell_type": "code",
   "execution_count": null,
   "metadata": {},
   "outputs": [],
   "source": [
    "# Create Study\n",
    "from study import CovidCountryStudy\n",
    "import pandas as pd\n",
    "st = CovidCountryStudy(data=pd.read_csv('./../data/timeseries_by_country.csv'),\n",
    "                                downsampling=7,\n",
    "                                country_data = pd.read_csv('./../data/country_data.csv',index_col=0),\n",
    "                                country_filter={\"Continent\":[\"Europe\",\"North America\"],\"Region 1\":[\"Australia and New Zealand\"]})"
   ]
  },
  {
   "cell_type": "code",
   "execution_count": null,
   "metadata": {},
   "outputs": [],
   "source": [
    "# Inspect the data\n",
    "st.data.describe()"
   ]
  },
  {
   "cell_type": "code",
   "execution_count": null,
   "metadata": {},
   "outputs": [],
   "source": [
    "# Plot the study\n",
    "st.plot()"
   ]
  },
  {
   "cell_type": "code",
   "execution_count": null,
   "metadata": {},
   "outputs": [],
   "source": []
  }
 ],
 "metadata": {
  "interpreter": {
   "hash": "750085b9113c912cbfd5ffa20ed84112bcabf6c9358225561a0f983f94ec103a"
  },
  "kernelspec": {
   "display_name": "Python 3.8.2 ('venv': venv)",
   "language": "python",
   "name": "python3"
  },
  "language_info": {
   "codemirror_mode": {
    "name": "ipython",
    "version": 3
   },
   "file_extension": ".py",
   "mimetype": "text/x-python",
   "name": "python",
   "nbconvert_exporter": "python",
   "pygments_lexer": "ipython3",
   "version": "3.8.2"
  },
  "orig_nbformat": 4
 },
 "nbformat": 4,
 "nbformat_minor": 2
}
