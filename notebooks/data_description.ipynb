{
 "cells": [
  {
   "cell_type": "code",
   "execution_count": 12,
   "metadata": {},
   "outputs": [],
   "source": [
    "import sys\n",
    "\n",
    "sys.path.append('./..')\n",
    "sys.path.append('./../code')\n",
    "import pandas as pd"
   ]
  },
  {
   "cell_type": "code",
   "execution_count": 13,
   "metadata": {},
   "outputs": [
    {
     "name": "stderr",
     "output_type": "stream",
     "text": [
      "C:\\Users\\imanol-KS53\\AppData\\Local\\Temp\\ipykernel_21660\\2435729695.py:1: DtypeWarning: Columns (43) have mixed types. Specify dtype option on import or set low_memory=False.\n",
      "  df=pd.read_csv('./../data/timeseries_by_country.csv')\n"
     ]
    }
   ],
   "source": [
    "df=pd.read_csv('./../data/timeseries_by_country.csv')"
   ]
  },
  {
   "cell_type": "markdown",
   "metadata": {},
   "source": [
    "The data itself has 47 columns:"
   ]
  },
  {
   "cell_type": "code",
   "execution_count": 14,
   "metadata": {},
   "outputs": [
    {
     "data": {
      "text/plain": [
       "Index(['id', 'date', 'confirmed', 'deaths', 'recovered', 'tests', 'vaccines',\n",
       "       'people_vaccinated', 'people_fully_vaccinated', 'hosp', 'icu', 'vent',\n",
       "       'school_closing', 'workplace_closing', 'cancel_events',\n",
       "       'gatherings_restrictions', 'transport_closing',\n",
       "       'stay_home_restrictions', 'internal_movement_restrictions',\n",
       "       'international_movement_restrictions', 'information_campaigns',\n",
       "       'testing_policy', 'contact_tracing', 'facial_coverings',\n",
       "       'vaccination_policy', 'elderly_people_protection',\n",
       "       'government_response_index', 'stringency_index',\n",
       "       'containment_health_index', 'economic_support_index',\n",
       "       'administrative_area_level', 'administrative_area_level_1',\n",
       "       'administrative_area_level_2', 'administrative_area_level_3',\n",
       "       'latitude', 'longitude', 'population', 'iso_alpha_3', 'iso_alpha_2',\n",
       "       'iso_numeric', 'iso_currency', 'key_local', 'key_google_mobility',\n",
       "       'key_apple_mobility', 'key_jhu_csse', 'key_nuts', 'key_gadm'],\n",
       "      dtype='object')"
      ]
     },
     "execution_count": 14,
     "metadata": {},
     "output_type": "execute_result"
    }
   ],
   "source": [
    "df.columns"
   ]
  },
  {
   "cell_type": "markdown",
   "metadata": {},
   "source": [
    "From which 28 are used in the `CovidCountryStudy`:"
   ]
  },
  {
   "cell_type": "code",
   "execution_count": 15,
   "metadata": {},
   "outputs": [
    {
     "data": {
      "text/plain": [
       "[('covid', 'status', 'confirmed'),\n",
       " ('covid', 'status', 'deaths'),\n",
       " ('covid', 'status', 'recovered'),\n",
       " ('covid', 'protection', 'tests'),\n",
       " ('covid', 'protection', 'vaccines'),\n",
       " ('covid', 'protection', 'people_vaccinated'),\n",
       " ('covid', 'protection', 'people_fully_vaccinated'),\n",
       " ('health_system', 'status', 'hosp'),\n",
       " ('health_system', 'status', 'icu'),\n",
       " ('health_system', 'status', 'vent'),\n",
       " ('policy', 'social_distance', 'school_closing'),\n",
       " ('policy', 'social_distance', 'workplace_closing'),\n",
       " ('policy', 'social_distance', 'cancel_events'),\n",
       " ('policy', 'social_distance', 'gatherings_restrictions'),\n",
       " ('policy', 'social_distance', 'stay_home_restrictions'),\n",
       " ('policy', 'movement_restrictions', 'internal_movement_restrictions'),\n",
       " ('policy', 'movement_restrictions', 'international_movement_restrictions'),\n",
       " ('policy', 'movement_restrictions', 'transport_closing'),\n",
       " ('policy', 'information', 'information_campaigns'),\n",
       " ('policy', 'tracing', 'testing_policy'),\n",
       " ('policy', 'tracing', 'contact_tracing'),\n",
       " ('policy', 'protection', 'facial_coverings'),\n",
       " ('policy', 'protection', 'vaccination_policy'),\n",
       " ('policy', 'protection', 'elderly_people_protection'),\n",
       " ('index', '', 'government_response_index'),\n",
       " ('index', '', 'stringency_index'),\n",
       " ('index', '', 'containment_health_index'),\n",
       " ('index', '', 'economic_support_index')]"
      ]
     },
     "execution_count": 15,
     "metadata": {},
     "output_type": "execute_result"
    }
   ],
   "source": [
    "from study import CovidCountryStudy\n",
    "\n",
    "st = CovidCountryStudy.from_df(df,\n",
    "                                downsampling=7)\n",
    "st.data.columns.to_list()"
   ]
  }
 ],
 "metadata": {
  "interpreter": {
   "hash": "750085b9113c912cbfd5ffa20ed84112bcabf6c9358225561a0f983f94ec103a"
  },
  "kernelspec": {
   "display_name": "Python 3.8.2 ('venv': venv)",
   "language": "python",
   "name": "python3"
  },
  "language_info": {
   "codemirror_mode": {
    "name": "ipython",
    "version": 3
   },
   "file_extension": ".py",
   "mimetype": "text/x-python",
   "name": "python",
   "nbconvert_exporter": "python",
   "pygments_lexer": "ipython3",
   "version": "3.8.2"
  },
  "orig_nbformat": 4
 },
 "nbformat": 4,
 "nbformat_minor": 2
}
