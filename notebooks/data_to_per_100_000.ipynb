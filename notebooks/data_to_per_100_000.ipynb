{
 "cells": [
  {
   "cell_type": "code",
   "execution_count": null,
   "metadata": {},
   "outputs": [],
   "source": [
    "import sys\n",
    "\n",
    "sys.path.append('./..')\n",
    "sys.path.append('./../code')"
   ]
  },
  {
   "cell_type": "code",
   "execution_count": null,
   "metadata": {},
   "outputs": [],
   "source": [
    "import pandas as pd\n",
    "from study import CovidCountryStudy\n",
    "\n",
    "df=pd.read_csv('./../data/timeseries_by_country_old.csv')\n",
    "st = CovidCountryStudy.from_df(df,\n",
    "                                downsampling=7)"
   ]
  },
  {
   "cell_type": "code",
   "execution_count": null,
   "metadata": {},
   "outputs": [],
   "source": [
    "df"
   ]
  },
  {
   "cell_type": "code",
   "execution_count": null,
   "metadata": {},
   "outputs": [],
   "source": [
    "df_country = pd.read_csv('./../data/country_data.csv', index_col=0)"
   ]
  },
  {
   "cell_type": "code",
   "execution_count": null,
   "metadata": {},
   "outputs": [],
   "source": [
    "# Keep only country with population info. Calculate columns per 100.000 habitants\n",
    "idx = pd.IndexSlice\n",
    "cols = st.prepare_columns(['covid', 'health_system'])\n",
    "countries_with_population=[country for country in st.countries if country in df_country.index]\n",
    "st.data = st.data.loc[idx[:,countries_with_population],:]\n",
    "for country in st.countries:\n",
    "    data_country = st.data.loc[idx[:,country],cols]\n",
    "    data_country = data_country / df_country.loc[country, 'Population'] * 100_000\n",
    "    countries_with_population.append(country)\n",
    "new_data = st.data"
   ]
  },
  {
   "cell_type": "code",
   "execution_count": null,
   "metadata": {},
   "outputs": [],
   "source": [
    "new_data"
   ]
  },
  {
   "cell_type": "code",
   "execution_count": null,
   "metadata": {},
   "outputs": [],
   "source": [
    "new_data.covid.status.recovered.max()"
   ]
  },
  {
   "cell_type": "code",
   "execution_count": null,
   "metadata": {},
   "outputs": [],
   "source": [
    "new_data.covid.status.deaths.max()"
   ]
  },
  {
   "cell_type": "code",
   "execution_count": null,
   "metadata": {},
   "outputs": [],
   "source": [
    "new_data.columns = new_data.columns.get_level_values(-1)\n",
    "new_data=new_data.reset_index()\n",
    "new_data.to_csv('./../data/timeseries_by_country.csv')"
   ]
  },
  {
   "cell_type": "code",
   "execution_count": null,
   "metadata": {},
   "outputs": [],
   "source": [
    "new_data.reset_index().columns.get_level_values(-1)"
   ]
  }
 ],
 "metadata": {
  "interpreter": {
   "hash": "750085b9113c912cbfd5ffa20ed84112bcabf6c9358225561a0f983f94ec103a"
  },
  "kernelspec": {
   "display_name": "Python 3.8.2 ('venv': venv)",
   "language": "python",
   "name": "python3"
  },
  "language_info": {
   "codemirror_mode": {
    "name": "ipython",
    "version": 3
   },
   "file_extension": ".py",
   "mimetype": "text/x-python",
   "name": "python",
   "nbconvert_exporter": "python",
   "pygments_lexer": "ipython3",
   "version": "3.8.2"
  },
  "orig_nbformat": 4
 },
 "nbformat": 4,
 "nbformat_minor": 2
}
