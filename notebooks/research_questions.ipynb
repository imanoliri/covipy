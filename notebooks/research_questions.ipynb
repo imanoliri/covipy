{
 "cells": [
  {
   "cell_type": "markdown",
   "metadata": {},
   "source": [
    "# Research Questions\n",
    "Here some research questions are proposed to guide the investigation within this project."
   ]
  },
  {
   "cell_type": "markdown",
   "metadata": {},
   "source": [
    "## Questions about the pandemic"
   ]
  },
  {
   "cell_type": "markdown",
   "metadata": {},
   "source": [
    "## RQ1 - Which countries did best in the pandemic?\n",
    "This question helps to identify the diagnostic parameters."
   ]
  },
  {
   "cell_type": "markdown",
   "metadata": {},
   "source": [
    "## RQ2 - What is the correlation between the status of the covid pandemic in a country and the status of its health system?\n",
    "(covid status vs health system)"
   ]
  },
  {
   "cell_type": "markdown",
   "metadata": {},
   "source": [
    "## RQ3 - What indexes are correlated with a succesful handling of the pandemic?\n",
    "    a - government response index\n",
    "    b - stringency index\n",
    "    c - containment health index\n",
    "    d - economic support index\n",
    "\n",
    "### RQ3.1 - direct\n",
    "A simple, direct correlation excercise of the indexes.\n",
    "\n",
    "### RQ3.2 - time\n",
    "Time weighting:\n",
    "    - (time to first raise)\n",
    "    - (time integrated index)\n",
    "    - (time-to-peak integrated index)"
   ]
  },
  {
   "cell_type": "markdown",
   "metadata": {},
   "source": [
    "        Illustration of time weighting parameters:\n",
    "<img src=\"time_weighting_parameters.png\">"
   ]
  },
  {
   "cell_type": "markdown",
   "metadata": {},
   "source": [
    "## RQ4 - What policies are correlated with a succesful containment of the pandemic?\n",
    "    a - social distance\n",
    "    b - movement restrictions\n",
    "    c - information\n",
    "    d - tracing\n",
    "    e - protection\n",
    "\n",
    "### RQ4.1 - direct\n",
    "A simple, direct correlation excercise of the policies.\n",
    "\n",
    "### RQ4.2 - time\n",
    "Time weighting:\n",
    "    - how does an early application of the policies correlate? (time to first application)\n",
    "    - how does the sum time of the application of the policies correlate?\n",
    "    - how does the early application of the policies in each subsequent wave affect? (time to peak)"
   ]
  },
  {
   "cell_type": "markdown",
   "metadata": {},
   "source": [
    "## RQ5 - What is the effect of the season?\n",
    "(Covid vs time of the year)"
   ]
  },
  {
   "cell_type": "markdown",
   "metadata": {},
   "source": [
    "## RQ6 - What is the effect of the immunized population? Is there a difference between natural vs vaccine immunity?\n",
    "(Covid vs recovered+vaccinated)"
   ]
  },
  {
   "cell_type": "markdown",
   "metadata": {},
   "source": [
    "## RQ7 - What is the effect of the variant of covid? What is the natural gradient in time, without taking into account the immunization of the population?\n",
    "(Covid vs covid strain) Is there enough data for this?"
   ]
  },
  {
   "cell_type": "markdown",
   "metadata": {},
   "source": [
    "## Questions about the economy"
   ]
  },
  {
   "cell_type": "markdown",
   "metadata": {},
   "source": [
    "## RQ8 - Which countries did best in the economy?\n",
    "This question helps to identify the diagnostic parameters."
   ]
  },
  {
   "cell_type": "markdown",
   "metadata": {},
   "source": [
    "## RQ9 - What is the correlation between the economy of a country and the status of its health system?\n",
    "(economy vs health system)"
   ]
  },
  {
   "cell_type": "markdown",
   "metadata": {},
   "source": [
    "## RQ10 - What indexes are correlated with the economy of a country?\n",
    "    a - government response index\n",
    "    b - stringency index\n",
    "    c - containment health index\n",
    "    d - economic support index"
   ]
  },
  {
   "cell_type": "markdown",
   "metadata": {},
   "source": [
    "## RQ11 - Is there a correlation between the state of the covid pandemic in a country and its economy?\n",
    "(economy vs covid)"
   ]
  },
  {
   "cell_type": "markdown",
   "metadata": {},
   "source": [
    "## RQ12 - What policies are negatively correlated with the economy of the country?\n",
    "    a - social distance\n",
    "    b - movement restrictions\n",
    "    c - information\n",
    "    d - tracing\n",
    "    e - protection"
   ]
  },
  {
   "cell_type": "markdown",
   "metadata": {},
   "source": [
    "## RQ13 - "
   ]
  }
 ],
 "metadata": {
  "language_info": {
   "name": "python"
  },
  "orig_nbformat": 4
 },
 "nbformat": 4,
 "nbformat_minor": 2
}
