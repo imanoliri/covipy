{
 "cells": [
  {
   "cell_type": "code",
   "execution_count": null,
   "metadata": {},
   "outputs": [],
   "source": [
    "import sys\n",
    "from IPython.core.interactiveshell import InteractiveShell\n",
    "\n",
    "sys.path.append('./../')\n",
    "sys.path.append('./../code')\n",
    "\n",
    "InteractiveShell.ast_node_interactivity = \"all\""
   ]
  },
  {
   "cell_type": "code",
   "execution_count": null,
   "metadata": {},
   "outputs": [],
   "source": [
    "csv_path='./../data/timeseries_by_country_old.csv'\n",
    "db_path='./../data/latest.db'\n",
    "csv_country_path = './../data/country_data.csv'\n",
    "csv_new_path='./../data/timeseries_by_country.csv'"
   ]
  },
  {
   "cell_type": "code",
   "execution_count": null,
   "metadata": {},
   "outputs": [],
   "source": [
    "# If './../data/timeseries_by_country_old.csv' doesn't exist, extract data from sqlite3 .db file\n",
    "import sqlite3\n",
    "import pandas as pd\n",
    "\n",
    "try:\n",
    "    print(f'Loading from: {csv_path}')\n",
    "    df = pd.read_csv(csv_path)\n",
    "    df=df.reset_index().rename(columns={'administrative_area_level_1':'country'}).set_index(['country','date'])\n",
    "    df\n",
    "except FileNotFoundError:\n",
    "    try:\n",
    "        # Load from db file\n",
    "        print(f'Loading from: {db_path}')\n",
    "        with sqlite3.connect(db_path) as con:\n",
    "            df = pd.read_sql_query(\"SELECT * FROM timeseries\", con)\n",
    "        \n",
    "        # Rename and set indexes\n",
    "        df=df.reset_index().rename(columns={'administrative_area_level_1':'country'}).set_index(['country','date'])\n",
    "\n",
    "        # Some countries are only identified by iso_alpha_3. Just skip them as they are not all that relevant\n",
    "        df = df.loc[[val for val in df.index if not pd.isnull(val[0])]]\n",
    "        \n",
    "        # Save to local file for the future and the other notebooks\n",
    "        df.to_csv(csv_path)\n",
    "        df\n",
    "    except MemoryError as err:\n",
    "        print('A MemoryError happened while loading the file. Try freeing up some RAM (close Firefox and other programs).')\n",
    "        print(f'{MemoryError}{err}')\n"
   ]
  },
  {
   "cell_type": "code",
   "execution_count": null,
   "metadata": {},
   "outputs": [],
   "source": [
    "df.recovered.min()\n",
    "df.recovered.mean()\n",
    "df.recovered.max()"
   ]
  },
  {
   "cell_type": "code",
   "execution_count": null,
   "metadata": {},
   "outputs": [],
   "source": [
    "# Load country data\n",
    "df_country = pd.read_csv(csv_country_path, index_col=0)"
   ]
  },
  {
   "cell_type": "code",
   "execution_count": null,
   "metadata": {},
   "outputs": [],
   "source": [
    "df_country"
   ]
  },
  {
   "cell_type": "code",
   "execution_count": null,
   "metadata": {},
   "outputs": [],
   "source": [
    "# Create study instance from the data (downsampling of 1 in 7 days to take one value per week)\n",
    "from study import CovidCountryStudy\n",
    "st = CovidCountryStudy(df, downsampling=7)"
   ]
  },
  {
   "cell_type": "code",
   "execution_count": null,
   "metadata": {},
   "outputs": [],
   "source": [
    "# Keep only country with population info. Calculate columns per 100.000 habitants\n",
    "idx = pd.IndexSlice\n",
    "cols = st.prepare_columns(['covid', 'health_system'])\n",
    "countries_with_population=[country for country in st.countries if country in df_country.index]\n",
    "st.data = st.data.loc[idx[countries_with_population,:],:]\n",
    "for country in st.countries:\n",
    "    data_country = st.data.loc[idx[country,:],cols]\n",
    "    st.data.loc[idx[country,:],cols] = data_country / df_country.loc[country, 'population'] * 100_000\n",
    "new_data = st.data"
   ]
  },
  {
   "cell_type": "code",
   "execution_count": null,
   "metadata": {},
   "outputs": [],
   "source": [
    "new_data"
   ]
  },
  {
   "cell_type": "code",
   "execution_count": null,
   "metadata": {},
   "outputs": [],
   "source": [
    "new_data.covid.status.recovered.min()\n",
    "new_data.covid.status.recovered.mean()\n",
    "new_data.covid.status.recovered.max()"
   ]
  },
  {
   "cell_type": "code",
   "execution_count": null,
   "metadata": {},
   "outputs": [],
   "source": [
    "# Reduce columns to last level to be able to save to csv correctly\n",
    "new_data.columns = new_data.columns.get_level_values(-1)\n",
    "new_data=new_data.reset_index()\n",
    "new_data.to_csv(csv_new_path)"
   ]
  }
 ],
 "metadata": {
  "interpreter": {
   "hash": "750085b9113c912cbfd5ffa20ed84112bcabf6c9358225561a0f983f94ec103a"
  },
  "kernelspec": {
   "display_name": "Python 3.8.2 ('venv': venv)",
   "language": "python",
   "name": "python3"
  },
  "language_info": {
   "codemirror_mode": {
    "name": "ipython",
    "version": 3
   },
   "file_extension": ".py",
   "mimetype": "text/x-python",
   "name": "python",
   "nbconvert_exporter": "python",
   "pygments_lexer": "ipython3",
   "version": "3.8.2"
  },
  "orig_nbformat": 4
 },
 "nbformat": 4,
 "nbformat_minor": 2
}
