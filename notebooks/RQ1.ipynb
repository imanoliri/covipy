{
 "cells": [
  {
   "cell_type": "code",
   "execution_count": 1,
   "metadata": {},
   "outputs": [],
   "source": [
    "import sys\n",
    "\n",
    "sys.path.append('./..')\n",
    "sys.path.append('./../code')\n",
    "from IPython.core.interactiveshell import InteractiveShell\n",
    "\n",
    "InteractiveShell.ast_node_interactivity = \"all\""
   ]
  },
  {
   "cell_type": "markdown",
   "metadata": {},
   "source": [
    "# RQ1 - Which countries did best in the pandemic?\n",
    "The approach for this question will be to create a ranking of all the countries for all the parameters that show a good handling of the pandemic."
   ]
  },
  {
   "cell_type": "code",
   "execution_count": 2,
   "metadata": {},
   "outputs": [],
   "source": [
    "# Create Study\n",
    "from study import CovidCountryStudy\n",
    "import pandas as pd\n",
    "timeseries_data_path = './../data/timeseries_by_country.csv'\n",
    "country_data_path ='./../data/country_data.csv'\n",
    "st = CovidCountryStudy(data=pd.read_csv(timeseries_data_path),\n",
    "                                downsampling=7,\n",
    "                                country_data = pd.read_csv(country_data_path,index_col=0))"
   ]
  },
  {
   "cell_type": "code",
   "execution_count": 3,
   "metadata": {},
   "outputs": [
    {
     "name": "stdout",
     "output_type": "stream",
     "text": [
      "\n",
      "----> Function calc_groupby_data                    \n",
      "\t- Standard_parameter_groupbys: [(<built-in function max>, ('covid', 'status', 'deaths')), (<built-in function max>, ('covid', 'status', 'recovered'))]                    \n",
      "\t- Located_parameter_groupbys: None\n"
     ]
    }
   ],
   "source": [
    "# Create ByCountry Study\n",
    "from study import CovidByCountryStudy\n",
    "st_gb = CovidByCountryStudy(data=st.data,standard_parameter_groupbys=[(max, ('covid', 'status', 'deaths')),(max, ('covid', 'status', 'recovered'))]\n",
    "    )"
   ]
  },
  {
   "cell_type": "code",
   "execution_count": 14,
   "metadata": {},
   "outputs": [
    {
     "data": {
      "text/html": [
       "<div>\n",
       "<style scoped>\n",
       "    .dataframe tbody tr th:only-of-type {\n",
       "        vertical-align: middle;\n",
       "    }\n",
       "\n",
       "    .dataframe tbody tr th {\n",
       "        vertical-align: top;\n",
       "    }\n",
       "\n",
       "    .dataframe thead th {\n",
       "        text-align: right;\n",
       "    }\n",
       "</style>\n",
       "<table border=\"1\" class=\"dataframe\">\n",
       "  <thead>\n",
       "    <tr style=\"text-align: right;\">\n",
       "      <th></th>\n",
       "      <th>max_covid_status_deaths</th>\n",
       "      <th>max_covid_status_recovered</th>\n",
       "    </tr>\n",
       "    <tr>\n",
       "      <th>country</th>\n",
       "      <th></th>\n",
       "      <th></th>\n",
       "    </tr>\n",
       "  </thead>\n",
       "  <tbody>\n",
       "    <tr>\n",
       "      <th>Afghanistan</th>\n",
       "      <td>19.669647</td>\n",
       "      <td>149.673757</td>\n",
       "    </tr>\n",
       "    <tr>\n",
       "      <th>Albania</th>\n",
       "      <td>121.473245</td>\n",
       "      <td>4517.824878</td>\n",
       "    </tr>\n",
       "    <tr>\n",
       "      <th>Algeria</th>\n",
       "      <td>15.675811</td>\n",
       "      <td>222.802217</td>\n",
       "    </tr>\n",
       "    <tr>\n",
       "      <th>American Samoa</th>\n",
       "      <td>0.000000</td>\n",
       "      <td>NaN</td>\n",
       "    </tr>\n",
       "    <tr>\n",
       "      <th>Andorra</th>\n",
       "      <td>198.701299</td>\n",
       "      <td>17776.623377</td>\n",
       "    </tr>\n",
       "    <tr>\n",
       "      <th>...</th>\n",
       "      <td>...</td>\n",
       "      <td>...</td>\n",
       "    </tr>\n",
       "    <tr>\n",
       "      <th>Uzbekistan</th>\n",
       "      <td>4.891093</td>\n",
       "      <td>365.615943</td>\n",
       "    </tr>\n",
       "    <tr>\n",
       "      <th>Vanuatu</th>\n",
       "      <td>2.280130</td>\n",
       "      <td>NaN</td>\n",
       "    </tr>\n",
       "    <tr>\n",
       "      <th>Yemen</th>\n",
       "      <td>7.181654</td>\n",
       "      <td>13.967679</td>\n",
       "    </tr>\n",
       "    <tr>\n",
       "      <th>Zambia</th>\n",
       "      <td>21.578547</td>\n",
       "      <td>1023.204961</td>\n",
       "    </tr>\n",
       "    <tr>\n",
       "      <th>Zimbabwe</th>\n",
       "      <td>36.762430</td>\n",
       "      <td>255.325304</td>\n",
       "    </tr>\n",
       "  </tbody>\n",
       "</table>\n",
       "<p>201 rows × 2 columns</p>\n",
       "</div>"
      ],
      "text/plain": [
       "                max_covid_status_deaths  max_covid_status_recovered\n",
       "country                                                            \n",
       "Afghanistan                   19.669647                  149.673757\n",
       "Albania                      121.473245                 4517.824878\n",
       "Algeria                       15.675811                  222.802217\n",
       "American Samoa                 0.000000                         NaN\n",
       "Andorra                      198.701299                17776.623377\n",
       "...                                 ...                         ...\n",
       "Uzbekistan                     4.891093                  365.615943\n",
       "Vanuatu                        2.280130                         NaN\n",
       "Yemen                          7.181654                   13.967679\n",
       "Zambia                        21.578547                 1023.204961\n",
       "Zimbabwe                      36.762430                  255.325304\n",
       "\n",
       "[201 rows x 2 columns]"
      ]
     },
     "execution_count": 14,
     "metadata": {},
     "output_type": "execute_result"
    }
   ],
   "source": [
    "df = st_gb.groupby_data.data\n",
    "df"
   ]
  },
  {
   "cell_type": "markdown",
   "metadata": {},
   "source": [
    "# Best Countries by Deaths"
   ]
  },
  {
   "cell_type": "code",
   "execution_count": 19,
   "metadata": {},
   "outputs": [
    {
     "data": {
      "text/plain": [
       "<AxesSubplot:ylabel='Frequency'>"
      ]
     },
     "execution_count": 19,
     "metadata": {},
     "output_type": "execute_result"
    },
    {
     "data": {
      "image/png": "[encoded data removed]",
      "text/plain": [
       "<Figure size 432x288 with 1 Axes>"
      ]
     },
     "metadata": {
      "needs_background": "light"
     },
     "output_type": "display_data"
    }
   ],
   "source": [
    "ranking_deaths = df.max_covid_status_deaths.sort_values()\n",
    "ranking_deaths.plot(kind='hist')"
   ]
  },
  {
   "cell_type": "code",
   "execution_count": 32,
   "metadata": {},
   "outputs": [
    {
     "data": {
      "text/plain": [
       "country\n",
       "American Samoa              0.000000\n",
       "Burundi                     0.319569\n",
       "China                       1.007001\n",
       "Chad                        1.156703\n",
       "South Sudan                 1.232803\n",
       "Niger                       1.276490\n",
       "Bhutan                      1.295337\n",
       "Tajikistan                  1.310547\n",
       "Benin                       1.344552\n",
       "Nigeria                     1.524207\n",
       "Sierra Leone                1.567005\n",
       "Burkina Faso                1.832273\n",
       "Vanuatu                     2.280130\n",
       "Central African Republic    2.339545\n",
       "Eritrea                     2.904681\n",
       "Togo                        3.297500\n",
       "Guinea                      3.350339\n",
       "Nicaragua                   3.441509\n",
       "Mali                        3.609698\n",
       "Ghana                       4.650340\n",
       "Uzbekistan                  4.891093\n",
       "Madagascar                  4.983569\n",
       "Angola                      5.781050\n",
       "Liberia                     5.812574\n",
       "Ethiopia                    6.532480\n",
       "Name: max_covid_status_deaths, dtype: float64"
      ]
     },
     "execution_count": 32,
     "metadata": {},
     "output_type": "execute_result"
    }
   ],
   "source": [
    "ranking_deaths.head(25)"
   ]
  },
  {
   "cell_type": "markdown",
   "metadata": {},
   "source": [
    "The top 25 countries don't really seem so reliable in their reporting, especially China.\n",
    "Although the young population of some of the developing countries in this list could be an important factor in the mortality.\n",
    "Let's take a look into the next 25, in case we find any countries with realiable sources."
   ]
  },
  {
   "cell_type": "code",
   "execution_count": 31,
   "metadata": {},
   "outputs": [
    {
     "data": {
      "text/plain": [
       "country\n",
       "Congo                 6.977166\n",
       "Mozambique            7.038874\n",
       "Yemen                 7.181654\n",
       "Papua New Guinea      7.253828\n",
       "Cameroon              7.259097\n",
       "Haiti                 7.322634\n",
       "Uganda                7.859470\n",
       "Tonga                 8.490566\n",
       "Somalia               8.563519\n",
       "Guinea-Bissau         8.638211\n",
       "Samoa                 9.595960\n",
       "Timor-Leste           9.863429\n",
       "Kenya                10.503803\n",
       "Kiribati             10.924370\n",
       "Sudan                11.190677\n",
       "Rwanda               11.264670\n",
       "Senegal              11.735547\n",
       "Singapore            12.752137\n",
       "Equatorial Guinea    13.043478\n",
       "New Zealand          13.459146\n",
       "Gabon                13.611860\n",
       "Malawi               13.716675\n",
       "Pakistan             13.724807\n",
       "Gambia               15.101365\n",
       "Algeria              15.675811\n",
       "Name: max_covid_status_deaths, dtype: float64"
      ]
     },
     "execution_count": 31,
     "metadata": {},
     "output_type": "execute_result"
    }
   ],
   "source": [
    "ranking_deaths.iloc[25:50]"
   ]
  },
  {
   "cell_type": "markdown",
   "metadata": {},
   "source": [
    "Singapore and New Zealand are much more reliable and have deaths of around 13 in 100.000 inhabitants!"
   ]
  },
  {
   "cell_type": "code",
   "execution_count": 33,
   "metadata": {},
   "outputs": [
    {
     "data": {
      "text/plain": [
       "country\n",
       "Bangladesh               17.683634\n",
       "Cambodia                 18.272624\n",
       "Comoros                  18.390805\n",
       "Djibouti                 19.129555\n",
       "Afghanistan              19.669647\n",
       "Solomon Islands          20.232897\n",
       "Mauritania               21.096774\n",
       "Zambia                   21.578547\n",
       "Australia                22.482353\n",
       "Japan                    22.615358\n",
       "United Arab Emirates     23.276036\n",
       "Qatar                    23.498785\n",
       "Egypt                    23.805382\n",
       "Saudi Arabia             26.095824\n",
       "Iceland                  28.445748\n",
       "Lesotho                  32.539683\n",
       "Sao Tome and Principe    33.333333\n",
       "Palau                    33.333333\n",
       "Myanmar                  35.701158\n",
       "Zimbabwe                 36.762430\n",
       "Greenland                36.842105\n",
       "Thailand                 37.213467\n",
       "India                    37.416703\n",
       "Montserrat               40.000000\n",
       "Dominican Republic       40.339233\n",
       "Name: max_covid_status_deaths, dtype: float64"
      ]
     },
     "execution_count": 33,
     "metadata": {},
     "output_type": "execute_result"
    }
   ],
   "source": [
    "ranking_deaths.iloc[50:75]"
   ]
  },
  {
   "cell_type": "markdown",
   "metadata": {},
   "source": [
    "Australia, Japan, United Arab Emirates, Qatar, Saudia Arabia, Iceland, Greenland are also reliable results.\n",
    "\n",
    "Bangladesh, Egypt, Thailand, India and Dominican Republic may also be reliable."
   ]
  },
  {
   "cell_type": "markdown",
   "metadata": {},
   "source": [
    "# Best Countries by Recovered (total contagions)"
   ]
  },
  {
   "cell_type": "code",
   "execution_count": 24,
   "metadata": {},
   "outputs": [
    {
     "data": {
      "text/plain": [
       "<AxesSubplot:ylabel='Frequency'>"
      ]
     },
     "execution_count": 24,
     "metadata": {},
     "output_type": "execute_result"
    },
    {
     "data": {
      "image/png": "[encoded data removed]",
      "text/plain": [
       "<Figure size 432x288 with 1 Axes>"
      ]
     },
     "metadata": {
      "needs_background": "light"
     },
     "output_type": "display_data"
    }
   ],
   "source": [
    "ranking_recovered = df.max_covid_status_recovered.sort_values()\n",
    "ranking_recovered.plot(kind='hist')"
   ]
  },
  {
   "cell_type": "code",
   "execution_count": 34,
   "metadata": {},
   "outputs": [
    {
     "data": {
      "text/plain": [
       "country\n",
       "Cameroon                      0.226023\n",
       "Burundi                       0.277521\n",
       "Greenland                     3.508772\n",
       "Yemen                        13.967679\n",
       "Niger                        17.164457\n",
       "Chad                         26.092780\n",
       "Somalia                      28.301768\n",
       "Mauritius                    36.399371\n",
       "Thailand                     37.372493\n",
       "Central African Republic     37.784679\n",
       "Liberia                      46.381969\n",
       "Mali                         49.686435\n",
       "Sierra Leone                 51.259872\n",
       "New Zealand                  55.910411\n",
       "Lesotho                      59.897292\n",
       "Benin                        62.525777\n",
       "Burkina Faso                 63.258862\n",
       "Sudan                        68.402928\n",
       "Nigeria                      79.932085\n",
       "Anguilla                     86.666667\n",
       "Finland                      90.236419\n",
       "Angola                       96.701759\n",
       "Haiti                        99.245813\n",
       "Guinea-Bissau               118.241870\n",
       "Papua New Guinea            121.996200\n",
       "Name: max_covid_status_recovered, dtype: float64"
      ]
     },
     "execution_count": 34,
     "metadata": {},
     "output_type": "execute_result"
    }
   ],
   "source": [
    "ranking_recovered.head(25)"
   ]
  },
  {
   "cell_type": "markdown",
   "metadata": {},
   "source": [
    "Greenland is a good result."
   ]
  },
  {
   "cell_type": "code",
   "execution_count": 35,
   "metadata": {},
   "outputs": [
    {
     "data": {
      "text/plain": [
       "country\n",
       "Spain          126.422842\n",
       "Dominica       136.111111\n",
       "Tajikistan     139.138184\n",
       "Uganda         144.465578\n",
       "Eritrea        145.149464\n",
       "Madagascar     147.668918\n",
       "Afghanistan    149.673757\n",
       "Costa Rica     151.747154\n",
       "Togo           162.350525\n",
       "Belgium        166.056946\n",
       "Malawi         177.731312\n",
       "Serbia         178.138949\n",
       "Guinea         180.606107\n",
       "Congo          203.171439\n",
       "Gambia         209.350434\n",
       "Egypt          222.301483\n",
       "Algeria        222.802217\n",
       "Ethiopia       226.798824\n",
       "Cambodia       252.150248\n",
       "Zimbabwe       255.325304\n",
       "Mozambique     275.408735\n",
       "Senegal        284.155518\n",
       "Ghana          293.821002\n",
       "Bhutan         294.689119\n",
       "Myanmar        302.646572\n",
       "Name: max_covid_status_recovered, dtype: float64"
      ]
     },
     "execution_count": 35,
     "metadata": {},
     "output_type": "execute_result"
    }
   ],
   "source": [
    "ranking_recovered.iloc[25:50]"
   ]
  },
  {
   "cell_type": "markdown",
   "metadata": {},
   "source": [
    "Spain, Belgium and Serbia also."
   ]
  },
  {
   "cell_type": "code",
   "execution_count": 36,
   "metadata": {},
   "outputs": [
    {
     "data": {
      "text/plain": [
       "country\n",
       "Rwanda                          346.000618\n",
       "Equatorial Guinea               347.754811\n",
       "Kenya                           351.371557\n",
       "Gabon                           357.367475\n",
       "Cayman Islands                  357.575758\n",
       "Uzbekistan                      365.615943\n",
       "Fiji                            376.897321\n",
       "El Salvador                     392.198582\n",
       "Pakistan                        414.384858\n",
       "Comoros                         427.126437\n",
       "Mauritania                      445.935484\n",
       "France                          524.518185\n",
       "Switzerland                     583.477759\n",
       "Indonesia                       664.403489\n",
       "Bangladesh                      673.237435\n",
       "Timor-Leste                     722.989378\n",
       "Sao Tome and Principe           962.557078\n",
       "Saint Kitts and Nevis           969.811321\n",
       "Honduras                        993.538617\n",
       "Antigua and Barbuda            1022.448980\n",
       "Zambia                         1023.204961\n",
       "Singapore                      1066.615385\n",
       "Djibouti                       1150.708502\n",
       "Falkland Islands (Malvinas)    1200.000000\n",
       "Australia                      1220.666667\n",
       "Name: max_covid_status_recovered, dtype: float64"
      ]
     },
     "execution_count": 36,
     "metadata": {},
     "output_type": "execute_result"
    }
   ],
   "source": [
    "ranking_recovered.iloc[50:75]"
   ]
  },
  {
   "cell_type": "markdown",
   "metadata": {},
   "source": [
    "France, Switzerland, Singapore and Australia are also interesting results."
   ]
  }
 ],
 "metadata": {
  "interpreter": {
   "hash": "750085b9113c912cbfd5ffa20ed84112bcabf6c9358225561a0f983f94ec103a"
  },
  "kernelspec": {
   "display_name": "Python 3.8.2 ('venv': venv)",
   "language": "python",
   "name": "python3"
  },
  "language_info": {
   "codemirror_mode": {
    "name": "ipython",
    "version": 3
   },
   "file_extension": ".py",
   "mimetype": "text/x-python",
   "name": "python",
   "nbconvert_exporter": "python",
   "pygments_lexer": "ipython3",
   "version": "3.8.2"
  },
  "orig_nbformat": 4
 },
 "nbformat": 4,
 "nbformat_minor": 2
}
