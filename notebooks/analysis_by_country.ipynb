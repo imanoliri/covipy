{
 "cells": [
  {
   "cell_type": "code",
   "execution_count": null,
   "metadata": {},
   "outputs": [],
   "source": [
    "import sys\n",
    "\n",
    "sys.path.append('./..')\n",
    "sys.path.append('./../code')\n",
    "from IPython.core.interactiveshell import InteractiveShell\n",
    "\n",
    "InteractiveShell.ast_node_interactivity = \"all\""
   ]
  },
  {
   "cell_type": "markdown",
   "metadata": {},
   "source": [
    "# Analysis by country\n",
    "This notebook performs a custom study of the data by country as defined by the user."
   ]
  },
  {
   "cell_type": "code",
   "execution_count": null,
   "metadata": {},
   "outputs": [],
   "source": [
    "# Create CovidCountryStudyGroupby with interesting data aggregations & localizations\n",
    "\n",
    "from study import CovidCountryStudy,CovidByCountryStudy\n",
    "from statistics import mean\n",
    "import pandas as pd\n",
    "\n",
    "st = CovidCountryStudy(data=pd.read_csv('./../data/timeseries_by_country.csv'),\n",
    "                                downsampling=7,\n",
    "                                country_data = pd.read_csv('./../data/country_data.csv', on_bad_lines='skip',index_col=1),\n",
    "                                country_filter={\"Continent\":[\"Europe\",\"North America\"],\"Region 1\":[\"Australia and New Zealand\"]})\n",
    "\n",
    "st_gb = CovidByCountryStudy.from_study(study=st,groupby_kwargs={\n",
    "        \"standard_parameter_groupbys\":[(max, ('health_system', 'status', 'icu')),\n",
    "         (mean, ('health_system', 'status', 'icu')),\n",
    "         (max, ('covid', 'status', 'deaths'))]\n",
    "        ,\n",
    "        \"located_parameter_groupbys\":\n",
    "        [(('covid', 'protection', 'people_fully_vaccinated'), max,\n",
    "          ('health_system', 'status', 'icu')),\n",
    "         ('tests', max, ('covid', 'status', 'confirmed')),\n",
    "         (('covid', 'status', 'deaths'), max, ('covid', 'status',\n",
    "                                               'confirmed')),\n",
    "         (('covid', 'status', 'confirmed'), max, ('covid', 'status',\n",
    "                                                  'deaths')),\n",
    "         (('policy', 'protection', 'elderly_people_protection'), max,\n",
    "          ('covid', 'status', 'deaths'))]\n",
    "    },plot_parameters_by_country=False)"
   ]
  },
  {
   "cell_type": "code",
   "execution_count": null,
   "metadata": {},
   "outputs": [],
   "source": [
    "st_gb.plot()"
   ]
  },
  {
   "cell_type": "code",
   "execution_count": null,
   "metadata": {},
   "outputs": [],
   "source": []
  }
 ],
 "metadata": {
  "interpreter": {
   "hash": "750085b9113c912cbfd5ffa20ed84112bcabf6c9358225561a0f983f94ec103a"
  },
  "kernelspec": {
   "display_name": "Python 3.8.2 ('venv': venv)",
   "language": "python",
   "name": "python3"
  },
  "language_info": {
   "codemirror_mode": {
    "name": "ipython",
    "version": 3
   },
   "file_extension": ".py",
   "mimetype": "text/x-python",
   "name": "python",
   "nbconvert_exporter": "python",
   "pygments_lexer": "ipython3",
   "version": "3.8.2"
  },
  "orig_nbformat": 4
 },
 "nbformat": 4,
 "nbformat_minor": 2
}
